{
  "nbformat": 4,
  "nbformat_minor": 0,
  "metadata": {
    "colab": {
      "provenance": []
    },
    "kernelspec": {
      "name": "python3",
      "display_name": "Python 3"
    },
    "language_info": {
      "name": "python"
    }
  },
  "cells": [
    {
      "cell_type": "code",
      "execution_count": 1,
      "metadata": {
        "id": "HLUtg-GNBBe0"
      },
      "outputs": [],
      "source": [
        "import pandas as pd\n",
        "import numpy as np\n",
        "import matplotlib.pyplot as plt\n",
        "import seaborn as sns\n",
        "from sklearn.model_selection import train_test_split, GridSearchCV\n",
        "from sklearn.model_selection import StratifiedKFold\n",
        "from sklearn.ensemble import RandomForestClassifier\n",
        "from sklearn.preprocessing import StandardScaler, OneHotEncoder\n",
        "from sklearn.compose import ColumnTransformer\n",
        "from sklearn.pipeline import Pipeline\n",
        "from sklearn.metrics import classification_report, confusion_matrix, accuracy_score, ConfusionMatrixDisplay, roc_auc_score, roc_curve\n",
        "from imblearn.over_sampling import SMOTE\n",
        "from imblearn.ensemble import BalancedRandomForestClassifier\n",
        "from sklearn.dummy import DummyClassifier\n",
        "from sklearn.preprocessing import StandardScaler\n",
        "from collections import Counter"
      ]
    },
    {
      "cell_type": "code",
      "source": [
        "train = pd.read_csv(\"fraud_train.csv\", na_values=[], keep_default_na=False)\n",
        "test = pd.read_csv(\"fraud_test.csv\", na_values=[], keep_default_na=False)"
      ],
      "metadata": {
        "id": "YYabAgLaBnVx"
      },
      "execution_count": 2,
      "outputs": []
    },
    {
      "cell_type": "code",
      "source": [
        "train.head()\n"
      ],
      "metadata": {
        "colab": {
          "base_uri": "https://localhost:8080/",
          "height": 273
        },
        "id": "81t1SqS6B44Z",
        "outputId": "46fd9ee4-21df-4b5d-b508-995c72899529"
      },
      "execution_count": 3,
      "outputs": [
        {
          "output_type": "execute_result",
          "data": {
            "text/plain": [
              "   Unnamed: 0  fraud_bool  income  name_email_similarity  \\\n",
              "0      409919           0     0.5               0.533645   \n",
              "1      679596           0     0.6               0.762213   \n",
              "2      579377           0     0.9               0.386071   \n",
              "3      851406           0     0.6               0.311304   \n",
              "4      519975           0     0.1               0.824045   \n",
              "\n",
              "   prev_address_months_count  current_address_months_count  customer_age  \\\n",
              "0                         -1                            47            20   \n",
              "1                        198                             8            20   \n",
              "2                         60                            12            20   \n",
              "3                         -1                           221            40   \n",
              "4                         86                             6            20   \n",
              "\n",
              "   days_since_request  intended_balcon_amount payment_type  ...  \\\n",
              "0            0.010426               -0.775947           AC  ...   \n",
              "1            0.020051               10.628024           AA  ...   \n",
              "2            7.009744               51.695466           AA  ...   \n",
              "3            0.012369               -1.236389           AB  ...   \n",
              "4            0.039485               -0.659062           AC  ...   \n",
              "\n",
              "   bank_months_count  has_other_cards  proposed_credit_limit  foreign_request  \\\n",
              "0                 -1                0                 1500.0                0   \n",
              "1                 28                0                  500.0                0   \n",
              "2                 29                0                 1000.0                0   \n",
              "3                 11                0                 1500.0                0   \n",
              "4                 -1                0                  200.0                0   \n",
              "\n",
              "     source  session_length_in_minutes device_os  keep_alive_session  \\\n",
              "0  INTERNET                  30.650408     other                   0   \n",
              "1  INTERNET                   2.045171     other                   1   \n",
              "2  INTERNET                  11.071376     linux                   1   \n",
              "3  INTERNET                  10.796589     linux                   1   \n",
              "4  INTERNET                   6.790446     linux                   1   \n",
              "\n",
              "   device_distinct_emails_8w month  \n",
              "0                          1     3  \n",
              "1                          1     5  \n",
              "2                          1     4  \n",
              "3                          1     6  \n",
              "4                          1     3  \n",
              "\n",
              "[5 rows x 32 columns]"
            ],
            "text/html": [
              "\n",
              "  <div id=\"df-16bf03d6-25de-4a49-a3c0-9fb683b9bb7c\" class=\"colab-df-container\">\n",
              "    <div>\n",
              "<style scoped>\n",
              "    .dataframe tbody tr th:only-of-type {\n",
              "        vertical-align: middle;\n",
              "    }\n",
              "\n",
              "    .dataframe tbody tr th {\n",
              "        vertical-align: top;\n",
              "    }\n",
              "\n",
              "    .dataframe thead th {\n",
              "        text-align: right;\n",
              "    }\n",
              "</style>\n",
              "<table border=\"1\" class=\"dataframe\">\n",
              "  <thead>\n",
              "    <tr style=\"text-align: right;\">\n",
              "      <th></th>\n",
              "      <th>Unnamed: 0</th>\n",
              "      <th>fraud_bool</th>\n",
              "      <th>income</th>\n",
              "      <th>name_email_similarity</th>\n",
              "      <th>prev_address_months_count</th>\n",
              "      <th>current_address_months_count</th>\n",
              "      <th>customer_age</th>\n",
              "      <th>days_since_request</th>\n",
              "      <th>intended_balcon_amount</th>\n",
              "      <th>payment_type</th>\n",
              "      <th>...</th>\n",
              "      <th>bank_months_count</th>\n",
              "      <th>has_other_cards</th>\n",
              "      <th>proposed_credit_limit</th>\n",
              "      <th>foreign_request</th>\n",
              "      <th>source</th>\n",
              "      <th>session_length_in_minutes</th>\n",
              "      <th>device_os</th>\n",
              "      <th>keep_alive_session</th>\n",
              "      <th>device_distinct_emails_8w</th>\n",
              "      <th>month</th>\n",
              "    </tr>\n",
              "  </thead>\n",
              "  <tbody>\n",
              "    <tr>\n",
              "      <th>0</th>\n",
              "      <td>409919</td>\n",
              "      <td>0</td>\n",
              "      <td>0.5</td>\n",
              "      <td>0.533645</td>\n",
              "      <td>-1</td>\n",
              "      <td>47</td>\n",
              "      <td>20</td>\n",
              "      <td>0.010426</td>\n",
              "      <td>-0.775947</td>\n",
              "      <td>AC</td>\n",
              "      <td>...</td>\n",
              "      <td>-1</td>\n",
              "      <td>0</td>\n",
              "      <td>1500.0</td>\n",
              "      <td>0</td>\n",
              "      <td>INTERNET</td>\n",
              "      <td>30.650408</td>\n",
              "      <td>other</td>\n",
              "      <td>0</td>\n",
              "      <td>1</td>\n",
              "      <td>3</td>\n",
              "    </tr>\n",
              "    <tr>\n",
              "      <th>1</th>\n",
              "      <td>679596</td>\n",
              "      <td>0</td>\n",
              "      <td>0.6</td>\n",
              "      <td>0.762213</td>\n",
              "      <td>198</td>\n",
              "      <td>8</td>\n",
              "      <td>20</td>\n",
              "      <td>0.020051</td>\n",
              "      <td>10.628024</td>\n",
              "      <td>AA</td>\n",
              "      <td>...</td>\n",
              "      <td>28</td>\n",
              "      <td>0</td>\n",
              "      <td>500.0</td>\n",
              "      <td>0</td>\n",
              "      <td>INTERNET</td>\n",
              "      <td>2.045171</td>\n",
              "      <td>other</td>\n",
              "      <td>1</td>\n",
              "      <td>1</td>\n",
              "      <td>5</td>\n",
              "    </tr>\n",
              "    <tr>\n",
              "      <th>2</th>\n",
              "      <td>579377</td>\n",
              "      <td>0</td>\n",
              "      <td>0.9</td>\n",
              "      <td>0.386071</td>\n",
              "      <td>60</td>\n",
              "      <td>12</td>\n",
              "      <td>20</td>\n",
              "      <td>7.009744</td>\n",
              "      <td>51.695466</td>\n",
              "      <td>AA</td>\n",
              "      <td>...</td>\n",
              "      <td>29</td>\n",
              "      <td>0</td>\n",
              "      <td>1000.0</td>\n",
              "      <td>0</td>\n",
              "      <td>INTERNET</td>\n",
              "      <td>11.071376</td>\n",
              "      <td>linux</td>\n",
              "      <td>1</td>\n",
              "      <td>1</td>\n",
              "      <td>4</td>\n",
              "    </tr>\n",
              "    <tr>\n",
              "      <th>3</th>\n",
              "      <td>851406</td>\n",
              "      <td>0</td>\n",
              "      <td>0.6</td>\n",
              "      <td>0.311304</td>\n",
              "      <td>-1</td>\n",
              "      <td>221</td>\n",
              "      <td>40</td>\n",
              "      <td>0.012369</td>\n",
              "      <td>-1.236389</td>\n",
              "      <td>AB</td>\n",
              "      <td>...</td>\n",
              "      <td>11</td>\n",
              "      <td>0</td>\n",
              "      <td>1500.0</td>\n",
              "      <td>0</td>\n",
              "      <td>INTERNET</td>\n",
              "      <td>10.796589</td>\n",
              "      <td>linux</td>\n",
              "      <td>1</td>\n",
              "      <td>1</td>\n",
              "      <td>6</td>\n",
              "    </tr>\n",
              "    <tr>\n",
              "      <th>4</th>\n",
              "      <td>519975</td>\n",
              "      <td>0</td>\n",
              "      <td>0.1</td>\n",
              "      <td>0.824045</td>\n",
              "      <td>86</td>\n",
              "      <td>6</td>\n",
              "      <td>20</td>\n",
              "      <td>0.039485</td>\n",
              "      <td>-0.659062</td>\n",
              "      <td>AC</td>\n",
              "      <td>...</td>\n",
              "      <td>-1</td>\n",
              "      <td>0</td>\n",
              "      <td>200.0</td>\n",
              "      <td>0</td>\n",
              "      <td>INTERNET</td>\n",
              "      <td>6.790446</td>\n",
              "      <td>linux</td>\n",
              "      <td>1</td>\n",
              "      <td>1</td>\n",
              "      <td>3</td>\n",
              "    </tr>\n",
              "  </tbody>\n",
              "</table>\n",
              "<p>5 rows × 32 columns</p>\n",
              "</div>\n",
              "    <div class=\"colab-df-buttons\">\n",
              "\n",
              "  <div class=\"colab-df-container\">\n",
              "    <button class=\"colab-df-convert\" onclick=\"convertToInteractive('df-16bf03d6-25de-4a49-a3c0-9fb683b9bb7c')\"\n",
              "            title=\"Convert this dataframe to an interactive table.\"\n",
              "            style=\"display:none;\">\n",
              "\n",
              "  <svg xmlns=\"http://www.w3.org/2000/svg\" height=\"24px\" viewBox=\"0 -960 960 960\">\n",
              "    <path d=\"M120-120v-720h720v720H120Zm60-500h600v-160H180v160Zm220 220h160v-160H400v160Zm0 220h160v-160H400v160ZM180-400h160v-160H180v160Zm440 0h160v-160H620v160ZM180-180h160v-160H180v160Zm440 0h160v-160H620v160Z\"/>\n",
              "  </svg>\n",
              "    </button>\n",
              "\n",
              "  <style>\n",
              "    .colab-df-container {\n",
              "      display:flex;\n",
              "      gap: 12px;\n",
              "    }\n",
              "\n",
              "    .colab-df-convert {\n",
              "      background-color: #E8F0FE;\n",
              "      border: none;\n",
              "      border-radius: 50%;\n",
              "      cursor: pointer;\n",
              "      display: none;\n",
              "      fill: #1967D2;\n",
              "      height: 32px;\n",
              "      padding: 0 0 0 0;\n",
              "      width: 32px;\n",
              "    }\n",
              "\n",
              "    .colab-df-convert:hover {\n",
              "      background-color: #E2EBFA;\n",
              "      box-shadow: 0px 1px 2px rgba(60, 64, 67, 0.3), 0px 1px 3px 1px rgba(60, 64, 67, 0.15);\n",
              "      fill: #174EA6;\n",
              "    }\n",
              "\n",
              "    .colab-df-buttons div {\n",
              "      margin-bottom: 4px;\n",
              "    }\n",
              "\n",
              "    [theme=dark] .colab-df-convert {\n",
              "      background-color: #3B4455;\n",
              "      fill: #D2E3FC;\n",
              "    }\n",
              "\n",
              "    [theme=dark] .colab-df-convert:hover {\n",
              "      background-color: #434B5C;\n",
              "      box-shadow: 0px 1px 3px 1px rgba(0, 0, 0, 0.15);\n",
              "      filter: drop-shadow(0px 1px 2px rgba(0, 0, 0, 0.3));\n",
              "      fill: #FFFFFF;\n",
              "    }\n",
              "  </style>\n",
              "\n",
              "    <script>\n",
              "      const buttonEl =\n",
              "        document.querySelector('#df-16bf03d6-25de-4a49-a3c0-9fb683b9bb7c button.colab-df-convert');\n",
              "      buttonEl.style.display =\n",
              "        google.colab.kernel.accessAllowed ? 'block' : 'none';\n",
              "\n",
              "      async function convertToInteractive(key) {\n",
              "        const element = document.querySelector('#df-16bf03d6-25de-4a49-a3c0-9fb683b9bb7c');\n",
              "        const dataTable =\n",
              "          await google.colab.kernel.invokeFunction('convertToInteractive',\n",
              "                                                    [key], {});\n",
              "        if (!dataTable) return;\n",
              "\n",
              "        const docLinkHtml = 'Like what you see? Visit the ' +\n",
              "          '<a target=\"_blank\" href=https://colab.research.google.com/notebooks/data_table.ipynb>data table notebook</a>'\n",
              "          + ' to learn more about interactive tables.';\n",
              "        element.innerHTML = '';\n",
              "        dataTable['output_type'] = 'display_data';\n",
              "        await google.colab.output.renderOutput(dataTable, element);\n",
              "        const docLink = document.createElement('div');\n",
              "        docLink.innerHTML = docLinkHtml;\n",
              "        element.appendChild(docLink);\n",
              "      }\n",
              "    </script>\n",
              "  </div>\n",
              "\n",
              "\n",
              "    <div id=\"df-526b1e53-3dfb-43e0-8cd6-7c7fb697dc2f\">\n",
              "      <button class=\"colab-df-quickchart\" onclick=\"quickchart('df-526b1e53-3dfb-43e0-8cd6-7c7fb697dc2f')\"\n",
              "                title=\"Suggest charts\"\n",
              "                style=\"display:none;\">\n",
              "\n",
              "<svg xmlns=\"http://www.w3.org/2000/svg\" height=\"24px\"viewBox=\"0 0 24 24\"\n",
              "     width=\"24px\">\n",
              "    <g>\n",
              "        <path d=\"M19 3H5c-1.1 0-2 .9-2 2v14c0 1.1.9 2 2 2h14c1.1 0 2-.9 2-2V5c0-1.1-.9-2-2-2zM9 17H7v-7h2v7zm4 0h-2V7h2v10zm4 0h-2v-4h2v4z\"/>\n",
              "    </g>\n",
              "</svg>\n",
              "      </button>\n",
              "\n",
              "<style>\n",
              "  .colab-df-quickchart {\n",
              "      --bg-color: #E8F0FE;\n",
              "      --fill-color: #1967D2;\n",
              "      --hover-bg-color: #E2EBFA;\n",
              "      --hover-fill-color: #174EA6;\n",
              "      --disabled-fill-color: #AAA;\n",
              "      --disabled-bg-color: #DDD;\n",
              "  }\n",
              "\n",
              "  [theme=dark] .colab-df-quickchart {\n",
              "      --bg-color: #3B4455;\n",
              "      --fill-color: #D2E3FC;\n",
              "      --hover-bg-color: #434B5C;\n",
              "      --hover-fill-color: #FFFFFF;\n",
              "      --disabled-bg-color: #3B4455;\n",
              "      --disabled-fill-color: #666;\n",
              "  }\n",
              "\n",
              "  .colab-df-quickchart {\n",
              "    background-color: var(--bg-color);\n",
              "    border: none;\n",
              "    border-radius: 50%;\n",
              "    cursor: pointer;\n",
              "    display: none;\n",
              "    fill: var(--fill-color);\n",
              "    height: 32px;\n",
              "    padding: 0;\n",
              "    width: 32px;\n",
              "  }\n",
              "\n",
              "  .colab-df-quickchart:hover {\n",
              "    background-color: var(--hover-bg-color);\n",
              "    box-shadow: 0 1px 2px rgba(60, 64, 67, 0.3), 0 1px 3px 1px rgba(60, 64, 67, 0.15);\n",
              "    fill: var(--button-hover-fill-color);\n",
              "  }\n",
              "\n",
              "  .colab-df-quickchart-complete:disabled,\n",
              "  .colab-df-quickchart-complete:disabled:hover {\n",
              "    background-color: var(--disabled-bg-color);\n",
              "    fill: var(--disabled-fill-color);\n",
              "    box-shadow: none;\n",
              "  }\n",
              "\n",
              "  .colab-df-spinner {\n",
              "    border: 2px solid var(--fill-color);\n",
              "    border-color: transparent;\n",
              "    border-bottom-color: var(--fill-color);\n",
              "    animation:\n",
              "      spin 1s steps(1) infinite;\n",
              "  }\n",
              "\n",
              "  @keyframes spin {\n",
              "    0% {\n",
              "      border-color: transparent;\n",
              "      border-bottom-color: var(--fill-color);\n",
              "      border-left-color: var(--fill-color);\n",
              "    }\n",
              "    20% {\n",
              "      border-color: transparent;\n",
              "      border-left-color: var(--fill-color);\n",
              "      border-top-color: var(--fill-color);\n",
              "    }\n",
              "    30% {\n",
              "      border-color: transparent;\n",
              "      border-left-color: var(--fill-color);\n",
              "      border-top-color: var(--fill-color);\n",
              "      border-right-color: var(--fill-color);\n",
              "    }\n",
              "    40% {\n",
              "      border-color: transparent;\n",
              "      border-right-color: var(--fill-color);\n",
              "      border-top-color: var(--fill-color);\n",
              "    }\n",
              "    60% {\n",
              "      border-color: transparent;\n",
              "      border-right-color: var(--fill-color);\n",
              "    }\n",
              "    80% {\n",
              "      border-color: transparent;\n",
              "      border-right-color: var(--fill-color);\n",
              "      border-bottom-color: var(--fill-color);\n",
              "    }\n",
              "    90% {\n",
              "      border-color: transparent;\n",
              "      border-bottom-color: var(--fill-color);\n",
              "    }\n",
              "  }\n",
              "</style>\n",
              "\n",
              "      <script>\n",
              "        async function quickchart(key) {\n",
              "          const quickchartButtonEl =\n",
              "            document.querySelector('#' + key + ' button');\n",
              "          quickchartButtonEl.disabled = true;  // To prevent multiple clicks.\n",
              "          quickchartButtonEl.classList.add('colab-df-spinner');\n",
              "          try {\n",
              "            const charts = await google.colab.kernel.invokeFunction(\n",
              "                'suggestCharts', [key], {});\n",
              "          } catch (error) {\n",
              "            console.error('Error during call to suggestCharts:', error);\n",
              "          }\n",
              "          quickchartButtonEl.classList.remove('colab-df-spinner');\n",
              "          quickchartButtonEl.classList.add('colab-df-quickchart-complete');\n",
              "        }\n",
              "        (() => {\n",
              "          let quickchartButtonEl =\n",
              "            document.querySelector('#df-526b1e53-3dfb-43e0-8cd6-7c7fb697dc2f button');\n",
              "          quickchartButtonEl.style.display =\n",
              "            google.colab.kernel.accessAllowed ? 'block' : 'none';\n",
              "        })();\n",
              "      </script>\n",
              "    </div>\n",
              "\n",
              "    </div>\n",
              "  </div>\n"
            ],
            "application/vnd.google.colaboratory.intrinsic+json": {
              "type": "dataframe",
              "variable_name": "train"
            }
          },
          "metadata": {},
          "execution_count": 3
        }
      ]
    },
    {
      "cell_type": "code",
      "source": [
        "train.info()"
      ],
      "metadata": {
        "colab": {
          "base_uri": "https://localhost:8080/"
        },
        "id": "BYKqnHDXB7tC",
        "outputId": "27cb5afd-284a-4737-b511-3421f6a3e39c"
      },
      "execution_count": 4,
      "outputs": [
        {
          "output_type": "stream",
          "name": "stdout",
          "text": [
            "<class 'pandas.core.frame.DataFrame'>\n",
            "RangeIndex: 100000 entries, 0 to 99999\n",
            "Data columns (total 32 columns):\n",
            " #   Column                            Non-Null Count   Dtype  \n",
            "---  ------                            --------------   -----  \n",
            " 0   Unnamed: 0                        100000 non-null  int64  \n",
            " 1   fraud_bool                        100000 non-null  int64  \n",
            " 2   income                            100000 non-null  float64\n",
            " 3   name_email_similarity             100000 non-null  float64\n",
            " 4   prev_address_months_count         100000 non-null  int64  \n",
            " 5   current_address_months_count      100000 non-null  int64  \n",
            " 6   customer_age                      100000 non-null  int64  \n",
            " 7   days_since_request                100000 non-null  float64\n",
            " 8   intended_balcon_amount            100000 non-null  float64\n",
            " 9   payment_type                      100000 non-null  object \n",
            " 10  zip_count_4w                      100000 non-null  int64  \n",
            " 11  velocity_6h                       100000 non-null  float64\n",
            " 12  velocity_24h                      100000 non-null  float64\n",
            " 13  velocity_4w                       100000 non-null  float64\n",
            " 14  bank_branch_count_8w              100000 non-null  int64  \n",
            " 15  date_of_birth_distinct_emails_4w  100000 non-null  int64  \n",
            " 16  employment_status                 100000 non-null  object \n",
            " 17  credit_risk_score                 100000 non-null  int64  \n",
            " 18  email_is_free                     100000 non-null  int64  \n",
            " 19  housing_status                    100000 non-null  object \n",
            " 20  phone_home_valid                  100000 non-null  int64  \n",
            " 21  phone_mobile_valid                100000 non-null  int64  \n",
            " 22  bank_months_count                 100000 non-null  int64  \n",
            " 23  has_other_cards                   100000 non-null  int64  \n",
            " 24  proposed_credit_limit             100000 non-null  float64\n",
            " 25  foreign_request                   100000 non-null  int64  \n",
            " 26  source                            100000 non-null  object \n",
            " 27  session_length_in_minutes         100000 non-null  float64\n",
            " 28  device_os                         100000 non-null  object \n",
            " 29  keep_alive_session                100000 non-null  int64  \n",
            " 30  device_distinct_emails_8w         100000 non-null  int64  \n",
            " 31  month                             100000 non-null  int64  \n",
            "dtypes: float64(9), int64(18), object(5)\n",
            "memory usage: 24.4+ MB\n"
          ]
        }
      ]
    },
    {
      "cell_type": "code",
      "source": [
        "train['fraud_bool'].value_counts()"
      ],
      "metadata": {
        "colab": {
          "base_uri": "https://localhost:8080/",
          "height": 178
        },
        "id": "fYa8_sOGCHI2",
        "outputId": "10c2589b-04f7-4888-ab55-a40d0a0c23e1"
      },
      "execution_count": 5,
      "outputs": [
        {
          "output_type": "execute_result",
          "data": {
            "text/plain": [
              "fraud_bool\n",
              "0    98941\n",
              "1     1059\n",
              "Name: count, dtype: int64"
            ],
            "text/html": [
              "<div>\n",
              "<style scoped>\n",
              "    .dataframe tbody tr th:only-of-type {\n",
              "        vertical-align: middle;\n",
              "    }\n",
              "\n",
              "    .dataframe tbody tr th {\n",
              "        vertical-align: top;\n",
              "    }\n",
              "\n",
              "    .dataframe thead th {\n",
              "        text-align: right;\n",
              "    }\n",
              "</style>\n",
              "<table border=\"1\" class=\"dataframe\">\n",
              "  <thead>\n",
              "    <tr style=\"text-align: right;\">\n",
              "      <th></th>\n",
              "      <th>count</th>\n",
              "    </tr>\n",
              "    <tr>\n",
              "      <th>fraud_bool</th>\n",
              "      <th></th>\n",
              "    </tr>\n",
              "  </thead>\n",
              "  <tbody>\n",
              "    <tr>\n",
              "      <th>0</th>\n",
              "      <td>98941</td>\n",
              "    </tr>\n",
              "    <tr>\n",
              "      <th>1</th>\n",
              "      <td>1059</td>\n",
              "    </tr>\n",
              "  </tbody>\n",
              "</table>\n",
              "</div><br><label><b>dtype:</b> int64</label>"
            ]
          },
          "metadata": {},
          "execution_count": 5
        }
      ]
    },
    {
      "cell_type": "code",
      "source": [
        "train['fraud_bool'].value_counts(normalize=True)"
      ],
      "metadata": {
        "colab": {
          "base_uri": "https://localhost:8080/",
          "height": 178
        },
        "id": "cOfFPhwYDIE0",
        "outputId": "b3a176dd-f68a-466f-e4e8-aedb0e58751c"
      },
      "execution_count": 6,
      "outputs": [
        {
          "output_type": "execute_result",
          "data": {
            "text/plain": [
              "fraud_bool\n",
              "0    0.98941\n",
              "1    0.01059\n",
              "Name: proportion, dtype: float64"
            ],
            "text/html": [
              "<div>\n",
              "<style scoped>\n",
              "    .dataframe tbody tr th:only-of-type {\n",
              "        vertical-align: middle;\n",
              "    }\n",
              "\n",
              "    .dataframe tbody tr th {\n",
              "        vertical-align: top;\n",
              "    }\n",
              "\n",
              "    .dataframe thead th {\n",
              "        text-align: right;\n",
              "    }\n",
              "</style>\n",
              "<table border=\"1\" class=\"dataframe\">\n",
              "  <thead>\n",
              "    <tr style=\"text-align: right;\">\n",
              "      <th></th>\n",
              "      <th>proportion</th>\n",
              "    </tr>\n",
              "    <tr>\n",
              "      <th>fraud_bool</th>\n",
              "      <th></th>\n",
              "    </tr>\n",
              "  </thead>\n",
              "  <tbody>\n",
              "    <tr>\n",
              "      <th>0</th>\n",
              "      <td>0.98941</td>\n",
              "    </tr>\n",
              "    <tr>\n",
              "      <th>1</th>\n",
              "      <td>0.01059</td>\n",
              "    </tr>\n",
              "  </tbody>\n",
              "</table>\n",
              "</div><br><label><b>dtype:</b> float64</label>"
            ]
          },
          "metadata": {},
          "execution_count": 6
        }
      ]
    },
    {
      "cell_type": "markdown",
      "source": [
        "## חלוקה"
      ],
      "metadata": {
        "id": "xT2sY8vYSY04"
      }
    },
    {
      "cell_type": "code",
      "source": [
        "# חודשים 0–6 -> אימון\n",
        "# חודשים 6–12 -> ולידציה\n",
        "train_df = train[train[\"month\"] <= 6].copy()\n",
        "val_df = train[train[\"month\"] > 6].copy()"
      ],
      "metadata": {
        "id": "awcZwc3GSQ0O"
      },
      "execution_count": 7,
      "outputs": []
    },
    {
      "cell_type": "code",
      "source": [
        "def preprocess(df, target_col=\"fraud_bool\"):\n",
        "    df = df.copy()\n",
        "\n",
        "    # מפרידים תכונות ומטרה\n",
        "    X = df.drop(columns=[target_col])\n",
        "    y = df[target_col]\n",
        "\n",
        "    # זיהוי עמודות\n",
        "    num_cols = X.select_dtypes(include=[\"int64\", \"float64\"]).columns.tolist()\n",
        "    cat_cols = X.select_dtypes(include=[\"object\", \"category\"]).columns.tolist()\n",
        "\n",
        "    # יצירת טרנספורמר לעיבוד העמודות\n",
        "    preprocessor = ColumnTransformer(\n",
        "        transformers=[\n",
        "            (\"num\", StandardScaler(), num_cols),\n",
        "            (\"cat\", OneHotEncoder(drop=\"first\", sparse_output=False), cat_cols)\n",
        "        ]\n",
        "    )\n",
        "\n",
        "    # עיבוד X בעזרת הטרנספורמר\n",
        "    X_processed = preprocessor.fit_transform(X)\n",
        "\n",
        "    # שמירת שמות העמודות החדשים (לא חובה, אבל שימושי אם רוצים לשמור על מידע)\n",
        "    num_features = num_cols\n",
        "    cat_features = preprocessor.named_transformers_[\"cat\"].get_feature_names_out(cat_cols)\n",
        "    feature_names = num_features + cat_features.tolist()\n",
        "\n",
        "    # החזרת DataFrame מעובד\n",
        "    X_processed = pd.DataFrame(X_processed, columns=feature_names, index=X.index)\n",
        "\n",
        "    return X_processed, y\n"
      ],
      "metadata": {
        "id": "6f2Gx70AS_4A"
      },
      "execution_count": 8,
      "outputs": []
    },
    {
      "cell_type": "code",
      "source": [
        "# עיבוד קבוצות\n",
        "X_train, y_train = preprocess(train_df)\n",
        "X_val, y_val = preprocess(val_df)\n",
        "\n",
        "# התאמת העמודות בין הקבוצות\n",
        "X_val = X_val.reindex(columns=X_train.columns, fill_value=0)"
      ],
      "metadata": {
        "id": "5uDM9yaLTSCk"
      },
      "execution_count": 9,
      "outputs": []
    },
    {
      "cell_type": "code",
      "source": [
        "def evaluate_model(model, X_test, y_test, title):\n",
        "    y_pred = model.predict(X_test)\n",
        "    y_scores = model.predict_proba(X_test)[:, 1]\n",
        "    print(f\"\\n--- {title} ---\")\n",
        "    print(classification_report(y_test, y_pred))\n",
        "    sns.heatmap(confusion_matrix(y_test, y_pred), annot=True, fmt='d')\n",
        "    plt.title(f\"Confusion Matrix - {title}\")\n",
        "    plt.show()\n",
        "    print(\"ROC-AUC:\", roc_auc_score(y_test, y_scores))\n",
        "    fpr, tpr, _ = roc_curve(y_test, y_scores)\n",
        "    plt.plot(fpr, tpr)\n",
        "    plt.title(f\"ROC Curve - {title}\")\n",
        "    plt.xlabel(\"False Positive Rate\")\n",
        "    plt.ylabel(\"True Positive Rate\")\n",
        "    plt.show()"
      ],
      "metadata": {
        "id": "cGOvXvGeVEtV"
      },
      "execution_count": 10,
      "outputs": []
    },
    {
      "cell_type": "markdown",
      "source": [
        "## המודל הבסיסי"
      ],
      "metadata": {
        "id": "zGtqfiwlTmSv"
      }
    },
    {
      "cell_type": "code",
      "source": [
        "clf = RandomForestClassifier(random_state=42)\n",
        "clf.fit(X_train, y_train)\n",
        "evaluate_model(clf, X_val,y_val, \"Random Forest\")"
      ],
      "metadata": {
        "colab": {
          "base_uri": "https://localhost:8080/",
          "height": 1000
        },
        "id": "6BW-BvOBTpJr",
        "outputId": "7ff007de-b539-4c96-dc05-5e91a64e3af0"
      },
      "execution_count": 11,
      "outputs": [
        {
          "output_type": "stream",
          "name": "stdout",
          "text": [
            "\n",
            "--- Random Forest ---\n",
            "              precision    recall  f1-score   support\n",
            "\n",
            "           0       0.99      1.00      0.99      9624\n",
            "           1       0.00      0.00      0.00       140\n",
            "\n",
            "    accuracy                           0.99      9764\n",
            "   macro avg       0.49      0.50      0.50      9764\n",
            "weighted avg       0.97      0.99      0.98      9764\n",
            "\n"
          ]
        },
        {
          "output_type": "stream",
          "name": "stderr",
          "text": [
            "/usr/local/lib/python3.11/dist-packages/sklearn/metrics/_classification.py:1565: UndefinedMetricWarning: Precision is ill-defined and being set to 0.0 in labels with no predicted samples. Use `zero_division` parameter to control this behavior.\n",
            "  _warn_prf(average, modifier, f\"{metric.capitalize()} is\", len(result))\n",
            "/usr/local/lib/python3.11/dist-packages/sklearn/metrics/_classification.py:1565: UndefinedMetricWarning: Precision is ill-defined and being set to 0.0 in labels with no predicted samples. Use `zero_division` parameter to control this behavior.\n",
            "  _warn_prf(average, modifier, f\"{metric.capitalize()} is\", len(result))\n",
            "/usr/local/lib/python3.11/dist-packages/sklearn/metrics/_classification.py:1565: UndefinedMetricWarning: Precision is ill-defined and being set to 0.0 in labels with no predicted samples. Use `zero_division` parameter to control this behavior.\n",
            "  _warn_prf(average, modifier, f\"{metric.capitalize()} is\", len(result))\n"
          ]
        },
        {
          "output_type": "display_data",
          "data": {
            "text/plain": [
              "<Figure size 640x480 with 2 Axes>"
            ],
            "image/png": "[encoded data removed]"
          },
          "metadata": {}
        },
        {
          "output_type": "stream",
          "name": "stdout",
          "text": [
            "ROC-AUC: 0.7751406454102838\n"
          ]
        },
        {
          "output_type": "display_data",
          "data": {
            "text/plain": [
              "<Figure size 640x480 with 1 Axes>"
            ],
            "image/png": "[encoded data removed]"
          },
          "metadata": {}
        }
      ]
    },
    {
      "cell_type": "markdown",
      "source": [
        "## סמוט לאיזון נתונים"
      ],
      "metadata": {
        "id": "HvO7JnONT15Y"
      }
    },
    {
      "cell_type": "code",
      "source": [
        "smote = SMOTE(random_state=42)\n",
        "\n",
        "# החלת SMOTE על קבוצת האימון – מאזנת את המחלקות\n",
        "X_resampled, y_resampled = smote.fit_resample(X_train, y_train)\n",
        "\n",
        "print(\"Combined Sampling:\", Counter(y_resampled))"
      ],
      "metadata": {
        "colab": {
          "base_uri": "https://localhost:8080/"
        },
        "id": "UVFtgiNMaTOr",
        "outputId": "a660e6b4-8e4d-4c74-871e-d6dcfe35cd8a"
      },
      "execution_count": 12,
      "outputs": [
        {
          "output_type": "stream",
          "name": "stdout",
          "text": [
            "Combined Sampling: Counter({0: 89317, 1: 89317})\n"
          ]
        }
      ]
    },
    {
      "cell_type": "markdown",
      "source": [
        "## היפר פרמטר"
      ],
      "metadata": {
        "id": "bZke68Y0cZKR"
      }
    },
    {
      "cell_type": "code",
      "source": [
        "# הגדרת פרמטרים לרשת החיפוש\n",
        "param_grid = {\n",
        "    'n_estimators': [20, 50, 100, 150],\n",
        "    'max_depth': [0, 10, 20, 30]\n",
        "}\n",
        "\n",
        "# יצירת המודל הבסיסי\n",
        "rf_model = RandomForestClassifier(random_state=42)\n",
        "\n",
        "# הגדרת GridSearchCV עם קרוס-ולידציה וסקורינג של ROC AUC\n",
        "grid_search = GridSearchCV(\n",
        "    estimator=rf_model,\n",
        "    param_grid=param_grid,\n",
        "    scoring='roc_auc',\n",
        "    cv=4,\n",
        "    n_jobs=-1\n",
        ")\n",
        "\n",
        "# התאמה לנתונים שעברו SMOTE\n",
        "grid_search.fit(X_resampled, y_resampled)\n",
        "\n",
        "# הערכת המודל הטוב ביותר על קבוצת הוולידציה\n",
        "best_rf = grid_search.best_estimator_\n",
        "evaluate_model(best_rf, X_val, y_val, \"SMOTE, Random Forest\")"
      ],
      "metadata": {
        "id": "0NKUAeSrIjZ5"
      },
      "execution_count": null,
      "outputs": []
    },
    {
      "cell_type": "code",
      "source": [
        "rf_params = {'n_estimators': [20, 50, 100, 150], 'max_depth': [0, 10, 20, 30]}\n",
        "gs_rf = GridSearchCV(RandomForestClassifier(random_state=42), rf_params, scoring='roc_auc', cv=4, n_jobs=-1)\n",
        "gs_rf.fit(X_resampled, y_resampled)\n",
        "evaluate_model(gs_rf.best_estimator_, X_val, y_val, \"SMOTE,Random Forest\")\n"
      ],
      "metadata": {
        "colab": {
          "base_uri": "https://localhost:8080/",
          "height": 1000
        },
        "id": "7Qm2gCcqXjfg",
        "outputId": "c286d450-bc98-4c8c-f653-d1380b55b6e8"
      },
      "execution_count": 13,
      "outputs": [
        {
          "output_type": "stream",
          "name": "stderr",
          "text": [
            "/usr/local/lib/python3.11/dist-packages/sklearn/model_selection/_validation.py:528: FitFailedWarning: \n",
            "16 fits failed out of a total of 64.\n",
            "The score on these train-test partitions for these parameters will be set to nan.\n",
            "If these failures are not expected, you can try to debug them by setting error_score='raise'.\n",
            "\n",
            "Below are more details about the failures:\n",
            "--------------------------------------------------------------------------------\n",
            "16 fits failed with the following error:\n",
            "Traceback (most recent call last):\n",
            "  File \"/usr/local/lib/python3.11/dist-packages/sklearn/model_selection/_validation.py\", line 866, in _fit_and_score\n",
            "    estimator.fit(X_train, y_train, **fit_params)\n",
            "  File \"/usr/local/lib/python3.11/dist-packages/sklearn/base.py\", line 1382, in wrapper\n",
            "    estimator._validate_params()\n",
            "  File \"/usr/local/lib/python3.11/dist-packages/sklearn/base.py\", line 436, in _validate_params\n",
            "    validate_parameter_constraints(\n",
            "  File \"/usr/local/lib/python3.11/dist-packages/sklearn/utils/_param_validation.py\", line 98, in validate_parameter_constraints\n",
            "    raise InvalidParameterError(\n",
            "sklearn.utils._param_validation.InvalidParameterError: The 'max_depth' parameter of RandomForestClassifier must be an int in the range [1, inf) or None. Got 0 instead.\n",
            "\n",
            "  warnings.warn(some_fits_failed_message, FitFailedWarning)\n",
            "/usr/local/lib/python3.11/dist-packages/sklearn/model_selection/_search.py:1108: UserWarning: One or more of the test scores are non-finite: [       nan        nan        nan        nan 0.99372276 0.9941833\n",
            " 0.99458487 0.99464379 0.99925546 0.99949353 0.99957269 0.99959711\n",
            " 0.99950732 0.99973212 0.99977508 0.99978817]\n",
            "  warnings.warn(\n"
          ]
        },
        {
          "output_type": "stream",
          "name": "stdout",
          "text": [
            "\n",
            "--- SMOTE, Random Forest ---\n",
            "              precision    recall  f1-score   support\n",
            "\n",
            "           0       0.99      0.78      0.87      9624\n",
            "           1       0.02      0.37      0.05       140\n",
            "\n",
            "    accuracy                           0.78      9764\n",
            "   macro avg       0.51      0.58      0.46      9764\n",
            "weighted avg       0.97      0.78      0.86      9764\n",
            "\n"
          ]
        },
        {
          "output_type": "display_data",
          "data": {
            "text/plain": [
              "<Figure size 640x480 with 2 Axes>"
            ],
            "image/png": "[encoded data removed]"
          },
          "metadata": {}
        },
        {
          "output_type": "stream",
          "name": "stdout",
          "text": [
            "ROC-AUC: 0.5666061780073626\n"
          ]
        },
        {
          "output_type": "display_data",
          "data": {
            "text/plain": [
              "<Figure size 640x480 with 1 Axes>"
            ],
            "image/png": "[encoded data removed]"
          },
          "metadata": {}
        }
      ]
    },
    {
      "cell_type": "markdown",
      "source": [
        "## אימון מודל כל אימון ובדיקת חיזוי על המבחן"
      ],
      "metadata": {
        "id": "cqC4N-vHavbC"
      }
    },
    {
      "cell_type": "code",
      "source": [
        "# 1. טעינת כל סט האימון\n",
        "full_train_df = pd.read_csv(\"fraud_train.csv\")\n",
        "\n",
        "# 2. עיבוד מקדים\n",
        "full_X, full_y = preprocess(full_train_df)\n",
        "\n",
        "# 3. SMOTE על כל סט האימון\n",
        "smote = SMOTE(random_state=42)\n",
        "X_resampled_all, y_resampled_all = smote.fit_resample(full_X, full_y)\n",
        "\n",
        "# 4. אימון מודל סופי עם ההיפר־פרמטרים שנבחרו\n",
        "final_model = RandomForestClassifier(\n",
        "    random_state=42,\n",
        "    class_weight='balanced',\n",
        "    **grid_search.best_params_  # נלקח מ-GridSearch קודם\n",
        ")\n",
        "final_model.fit(X_resampled_all, y_resampled_all)\n",
        "\n",
        "# 5. טעינת סט הטסט ועיבוד\n",
        "test_df = pd.read_csv(\"fraud_test.csv\")\n",
        "test_X, test_y = preprocess(test_df)\n",
        "test_X = test_X.reindex(columns=X_resampled_all.columns, fill_value=0)\n",
        "\n",
        "# 6. הערכה סופית – על קבוצת הטסט בלבד\n",
        "evaluate_model(final_model, test_X, test_y, \"Final Model on Test\")"
      ],
      "metadata": {
        "colab": {
          "base_uri": "https://localhost:8080/",
          "height": 1000
        },
        "id": "1-JlSMgpa5jZ",
        "outputId": "cbe8c24b-8d3d-4143-b6dd-c565d9b933c6"
      },
      "execution_count": 15,
      "outputs": [
        {
          "output_type": "stream",
          "name": "stdout",
          "text": [
            "\n",
            "--- Final Model on Test ---\n",
            "              precision    recall  f1-score   support\n",
            "\n",
            "           0       0.99      0.97      0.98     49471\n",
            "           1       0.11      0.36      0.16       529\n",
            "\n",
            "    accuracy                           0.96     50000\n",
            "   macro avg       0.55      0.66      0.57     50000\n",
            "weighted avg       0.98      0.96      0.97     50000\n",
            "\n"
          ]
        },
        {
          "output_type": "display_data",
          "data": {
            "text/plain": [
              "<Figure size 640x480 with 2 Axes>"
            ],
            "image/png": "[encoded data removed]"
          },
          "metadata": {}
        },
        {
          "output_type": "stream",
          "name": "stdout",
          "text": [
            "ROC-AUC: 0.8020813897233106\n"
          ]
        },
        {
          "output_type": "display_data",
          "data": {
            "text/plain": [
              "<Figure size 640x480 with 1 Axes>"
            ],
            "image/png": "[encoded data removed]"
          },
          "metadata": {}
        }
      ]
    },
    {
      "cell_type": "markdown",
      "source": [
        "## למה בחרתי במודל\n",
        "# Random forest\n",
        " 1. מודל זה הינו מודל אשר יודע לזהות תבניות שאינן ליניאריות ובעיות הונאה אינן לינראיות\n",
        " 2. מתמודד טוב עם חוסר איזון ע\"י class_weight='balanced\n",
        " 3. עמידות לרעש ולמאפיינים לא רלוונטיים - לא מייחס חשיבות למקרי קיצון\n",
        " 4. מתאים לדאטה עם גם מאפיינים קטגוריים וגם מספריים\n",
        " שימוש ב SMOT גורם לפחות בעיות איזון לפתרון class imbalance\n",
        " במודל הראשוני ישנו אחוז דיוק גבוה של כמעט 100 אחוז אך אין דיוק במציאת הונאה\n",
        " לאחר שימוש המפחית את בעיית האיזון הגענו ל - 36% בזיהוי הונאה\n",
        " בנוסף אנו רואים 11% ב - precision דבר המעיד על לא מעט קבלות של התראות שווא\n"
      ],
      "metadata": {
        "id": "PqhHFhPmDGm0"
      }
    }
  ]
}